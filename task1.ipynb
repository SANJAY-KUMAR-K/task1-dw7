{
 "cells": [
  {
   "cell_type": "code",
   "execution_count": null,
   "metadata": {},
   "outputs": [
    {
     "name": "stdout",
     "output_type": "stream",
     "text": [
      "Enter the user name: sanjay@gmail.com\n",
      "Valid User name\n",
      "Enter the Password: Sanjay@123\n",
      "Password is valid.\n"
     ]
    }
   ],
   "source": [
    "import re   \n",
    "def check(username):\n",
    "    regex = '^[a-z]+[\\._]?[a-z0-9]+[@]\\w+[.]\\w{2,3}$' \n",
    "\n",
    "    if(re.search(regex,username)):   \n",
    "        print(\"Valid User name\")\n",
    "        return 1\n",
    "    else:   \n",
    "        print(\"Invalid User name\")   \n",
    "\n",
    "username = input(\"Enter the user name: \").rstrip() \n",
    "user_val=check(username)\n",
    "\n",
    "def check_pass(passwd):\n",
    "    reg = \"^(?=.*[a-z])(?=.*[A-Z])(?=.*\\d)(?=.*[@$!%*#?&])[A-Za-z\\d@$!#%*?&]{5,16}$\"\n",
    "    \n",
    "    pat = re.compile(reg)\n",
    "    \n",
    "    mat = re.search(pat, passwd)\n",
    "\n",
    "    if mat:\n",
    "        print(\"Password is valid.\")\n",
    "        return 1\n",
    "    else:\n",
    "        print(\"Password invalid !!\")\n",
    "\n",
    "passwd = input(\"Enter the Password: \").rstrip() \n",
    "pass_val=check_pass(passwd) \n",
    "\n",
    "\n",
    "if pass_val ==1 and user_val==1:\n",
    "    try:\n",
    "        task=int(input(\"Please enter your choice\\n Enter 1 to Login \\n Enter 2 to Register\\nEnter 3 if forgot password \\n\"))\n",
    "    except:\n",
    "        print(\"Please enter integer from 1-3\")\n",
    "    fh=open(\"creds.txt\",'r')\n",
    "    creds={}\n",
    "    for i in fh:\n",
    "        dat=i.split(':')\n",
    "        if dat[0] not in creds:\n",
    "            creds[dat[0]]=dat[1]\n",
    "    if username in creds and passwd in creds and task ==1:\n",
    "        print(\"Login\")\n",
    "    elif username in creds and passwd not in creds and task ==3:\n",
    "        print(\"Incorrect password\")\n",
    "        flag=input(\"Please confirm (Y/N) if you need to retrive the password:\")\n",
    "    elif username not in creds and passwd not in creds and task == 2:\n",
    "        fh.close()\n",
    "        fh=open(\"creds.txt\",'a')\n",
    "        fh.write(\"\\n\"+username+\":\"+passwd)\n",
    "        fh.close()\n",
    "    elif username not in creds and passwd not in creds and task in [1,3]:\n",
    "        print(\"Please navigate to Registration\")\n",
    "        \n",
    "        \n",
    "        \n",
    "#creds.txt empty file should be created and it stores the details"
   ]
  },
  {
   "cell_type": "code",
   "execution_count": null,
   "metadata": {},
   "outputs": [],
   "source": []
  }
 ],
 "metadata": {
  "kernelspec": {
   "display_name": "Python 3",
   "language": "python",
   "name": "python3"
  },
  "language_info": {
   "codemirror_mode": {
    "name": "ipython",
    "version": 3
   },
   "file_extension": ".py",
   "mimetype": "text/x-python",
   "name": "python",
   "nbconvert_exporter": "python",
   "pygments_lexer": "ipython3",
   "version": "3.7.3"
  }
 },
 "nbformat": 4,
 "nbformat_minor": 2
}
